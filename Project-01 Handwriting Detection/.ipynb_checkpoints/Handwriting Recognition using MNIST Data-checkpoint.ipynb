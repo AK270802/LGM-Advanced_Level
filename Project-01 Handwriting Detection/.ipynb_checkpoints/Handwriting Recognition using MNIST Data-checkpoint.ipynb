{
 "cells": [
  {
   "cell_type": "markdown",
   "id": "a41a750b",
   "metadata": {},
   "source": [
    "<img src=\"https://letsgrowmore.in/wp-content/uploads/2021/05/growmore-removebg-preview-600x245.png\" />\n",
    "\n",
    "# Handwriting Recognition using MNIST Data "
   ]
  },
  {
   "cell_type": "markdown",
   "id": "0d87ca95",
   "metadata": {},
   "source": [
    "### Introduction to Handwritten Digit Classification Challenge using Tensorflow and CNN\n",
    "The MNIST Handwritten Digit Classification Challenge is a well-known and popular project in the field of machine learning. It serves as an excellent starting point for beginners looking to dive into the realm of neural networks. By utilizing the power of Tensorflow, a widely-used machine learning framework, and employing Convolutional Neural Networks (CNNs), this project provides an accessible and user-friendly interface for individuals who are new to the field.\n",
    "\n",
    "The MNIST dataset consists of a large collection of handwritten digits ranging from 0 to 9. The goal of the project is to develop a model that can accurately classify and identify the digits based on the provided images. This task presents an exciting opportunity to apply neural network algorithms to real-world data and gain hands-on experience in the field of machine learning.\n",
    "\n",
    "Tensorflow, a popular open-source library, provides a comprehensive set of tools and resources to build and train neural networks efficiently. Its intuitive interface and extensive documentation make it an ideal choice for beginners. Tensorflow's capabilities, such as automatic differentiation and optimized computational graphs, simplify the process of designing, training, and evaluating neural network models.\n",
    "\n",
    "Convolutional Neural Networks (CNNs) are particularly effective in image classification tasks like the MNIST Handwritten Digit Classification Challenge. CNNs are designed to extract meaningful features from images by leveraging spatial hierarchies and local connections. The ability to learn and recognize patterns within images makes CNNs a powerful tool for accurately classifying handwritten digits.\n",
    "\n",
    "By combining the MNIST dataset, Tensorflow, and CNNs, beginners can embark on an exciting machine learning journey. The project offers a hands-on experience that allows individuals to develop their skills in data preprocessing, model architecture design, hyperparameter tuning, and model evaluation.\n",
    "\n",
    "Whether you're a student, a hobbyist, or an aspiring machine learning practitioner, taking on the MNIST Handwritten Digit Classification Challenge using Tensorflow and CNNs provides an accessible and rewarding introduction to neural network machine learning projects. It paves the way for further exploration into advanced topics and applications in the fascinating field of artificial intelligence."
   ]
  },
  {
   "cell_type": "code",
   "execution_count": 1,
   "id": "98a57135",
   "metadata": {},
   "outputs": [],
   "source": [
    "import cv2   # it will allow us to load our images into the script\n",
    "import numpy as np   # used for reformatting our own images\n",
    "import tensorflow as tf   # main library used to load data sets, build neural networks, train them, etc.\n",
    "import matplotlib.pyplot as plt"
   ]
  },
  {
   "cell_type": "code",
   "execution_count": 2,
   "id": "22515d21",
   "metadata": {},
   "outputs": [],
   "source": [
    "(X_train, y_train), (X_test, y_test) = tf.keras.datasets.mnist.load_data()"
   ]
  },
  {
   "cell_type": "code",
   "execution_count": 3,
   "id": "dcd62c03",
   "metadata": {},
   "outputs": [
    {
     "name": "stdout",
     "output_type": "stream",
     "text": [
      "The shape of the training inputs: (60000, 28, 28)\n",
      "The shape of the training labels: (60000,)\n",
      "The shape of the testing inputs: (10000, 28, 28)\n",
      "The shape of the testing labels: (10000,)\n"
     ]
    }
   ],
   "source": [
    "print('The shape of the training inputs:', X_train.shape)\n",
    "print('The shape of the training labels:',y_train.shape)\n",
    "print('The shape of the testing inputs:',X_test.shape)\n",
    "print('The shape of the testing labels:',y_test.shape)"
   ]
  },
  {
   "cell_type": "code",
   "execution_count": 4,
   "id": "21304c51",
   "metadata": {},
   "outputs": [
    {
     "data": {
      "image/png": "[encoded data removed]",
      "text/plain": [
       "<Figure size 640x480 with 4 Axes>"
      ]
     },
     "metadata": {},
     "output_type": "display_data"
    }
   ],
   "source": [
    "fig, axs = plt.subplots(2, 2)\n",
    "cnt = 0\n",
    "for i in range(2):\n",
    "    for j in range(2):\n",
    "        axs[i, j].imshow(X_train[cnt])\n",
    "        cnt += 1\n",
    "        if cnt == 4:\n",
    "            break\n",
    "    if cnt == 4:\n",
    "        break\n",
    "\n",
    "plt.show()"
   ]
  },
  {
   "cell_type": "code",
   "execution_count": 5,
   "id": "b6e143d7",
   "metadata": {},
   "outputs": [],
   "source": [
    "X_train = tf.keras.utils.normalize(X_train, axis=1)\n",
    "X_test = tf.keras.utils.normalize(X_test, axis=1)"
   ]
  },
  {
   "cell_type": "code",
   "execution_count": 6,
   "id": "211d00ef",
   "metadata": {},
   "outputs": [],
   "source": [
    "model = tf.keras.models.Sequential()"
   ]
  },
  {
   "cell_type": "code",
   "execution_count": 7,
   "id": "45fa4365",
   "metadata": {},
   "outputs": [],
   "source": [
    "model.add(tf.keras.layers.Flatten(input_shape=(28,28)))"
   ]
  },
  {
   "cell_type": "code",
   "execution_count": 8,
   "id": "da621858",
   "metadata": {},
   "outputs": [],
   "source": [
    "model.add(tf.keras.layers.Dense(units=128, activation=tf.nn.relu))   # 1st hidden layer\n",
    "model.add(tf.keras.layers.Dense(units=128, activation=tf.nn.relu))   # 2nd hidden layer"
   ]
  },
  {
   "cell_type": "code",
   "execution_count": 9,
   "id": "da674254",
   "metadata": {},
   "outputs": [],
   "source": [
    "model.add(tf.keras.layers.Dense(units=10, activation=tf.nn.softmax)) "
   ]
  },
  {
   "cell_type": "code",
   "execution_count": 10,
   "id": "cd6b8b77",
   "metadata": {},
   "outputs": [
    {
     "name": "stdout",
     "output_type": "stream",
     "text": [
      "Model: \"sequential\"\n",
      "_________________________________________________________________\n",
      " Layer (type)                Output Shape              Param #   \n",
      "=================================================================\n",
      " flatten (Flatten)           (None, 784)               0         \n",
      "                                                                 \n",
      " dense (Dense)               (None, 128)               100480    \n",
      "                                                                 \n",
      " dense_1 (Dense)             (None, 128)               16512     \n",
      "                                                                 \n",
      " dense_2 (Dense)             (None, 10)                1290      \n",
      "                                                                 \n",
      "=================================================================\n",
      "Total params: 118,282\n",
      "Trainable params: 118,282\n",
      "Non-trainable params: 0\n",
      "_________________________________________________________________\n"
     ]
    }
   ],
   "source": [
    "model.summary()"
   ]
  },
  {
   "cell_type": "code",
   "execution_count": 11,
   "id": "626f3221",
   "metadata": {},
   "outputs": [],
   "source": [
    "model.compile(optimizer='adam', loss='sparse_categorical_crossentropy', metrics=['accuracy'])"
   ]
  },
  {
   "cell_type": "code",
   "execution_count": 12,
   "id": "4dc5c4bf",
   "metadata": {},
   "outputs": [
    {
     "name": "stdout",
     "output_type": "stream",
     "text": [
      "Epoch 1/10\n",
      "600/600 [==============================] - 1s 1ms/step - loss: 0.3551 - accuracy: 0.8997\n",
      "Epoch 2/10\n",
      "600/600 [==============================] - 1s 1ms/step - loss: 0.1402 - accuracy: 0.9578\n",
      "Epoch 3/10\n",
      "600/600 [==============================] - 1s 1ms/step - loss: 0.0971 - accuracy: 0.9699\n",
      "Epoch 4/10\n",
      "600/600 [==============================] - 1s 1ms/step - loss: 0.0738 - accuracy: 0.9770\n",
      "Epoch 5/10\n",
      "600/600 [==============================] - 1s 1ms/step - loss: 0.0568 - accuracy: 0.9819\n",
      "Epoch 6/10\n",
      "600/600 [==============================] - 1s 1ms/step - loss: 0.0456 - accuracy: 0.9858\n",
      "Epoch 7/10\n",
      "600/600 [==============================] - 1s 1ms/step - loss: 0.0356 - accuracy: 0.9885\n",
      "Epoch 8/10\n",
      "600/600 [==============================] - 1s 1ms/step - loss: 0.0289 - accuracy: 0.9910\n",
      "Epoch 9/10\n",
      "600/600 [==============================] - 1s 1ms/step - loss: 0.0223 - accuracy: 0.9928\n",
      "Epoch 10/10\n",
      "600/600 [==============================] - 1s 1ms/step - loss: 0.0191 - accuracy: 0.9940\n"
     ]
    },
    {
     "data": {
      "text/plain": [
       "<keras.callbacks.History at 0x24ffb930c50>"
      ]
     },
     "execution_count": 12,
     "metadata": {},
     "output_type": "execute_result"
    }
   ],
   "source": [
    "model.fit(X_train, y_train, epochs=10, batch_size=100)"
   ]
  },
  {
   "cell_type": "code",
   "execution_count": 13,
   "id": "ede88eac",
   "metadata": {},
   "outputs": [
    {
     "name": "stdout",
     "output_type": "stream",
     "text": [
      "313/313 [==============================] - 0s 730us/step - loss: 0.1039 - accuracy: 0.9739\n",
      "0.10392589122056961\n",
      "0.9739000201225281\n"
     ]
    }
   ],
   "source": [
    "loss, accuracy = model.evaluate(X_test, y_test)\n",
    "print(loss)\n",
    "print(accuracy)"
   ]
  },
  {
   "cell_type": "code",
   "execution_count": 14,
   "id": "d4a75964",
   "metadata": {},
   "outputs": [
    {
     "name": "stdout",
     "output_type": "stream",
     "text": [
      "313/313 [==============================] - 0s 694us/step\n"
     ]
    },
    {
     "data": {
      "text/plain": [
       "array([[1.0645542e-11, 2.1243298e-12, 1.7180790e-08, ..., 9.9999881e-01,\n",
       "        6.0867082e-11, 9.7038608e-09],\n",
       "       [3.8359352e-15, 4.2232054e-07, 9.9999952e-01, ..., 7.3009421e-13,\n",
       "        2.0130864e-10, 1.9576554e-17],\n",
       "       [2.2348837e-08, 9.9985683e-01, 1.2686005e-05, ..., 1.1664331e-04,\n",
       "        1.0244441e-05, 4.0961485e-08],\n",
       "       ...,\n",
       "       [2.8267414e-11, 2.9665543e-08, 2.8764760e-10, ..., 1.7169108e-07,\n",
       "        1.5386885e-07, 5.2449013e-07],\n",
       "       [5.4008606e-09, 8.5466900e-10, 2.5152913e-09, ..., 4.2467430e-09,\n",
       "        1.5101541e-04, 4.1128442e-12],\n",
       "       [3.2421031e-08, 3.8158671e-10, 4.2365761e-10, ..., 2.0479141e-12,\n",
       "        1.2854662e-09, 1.4066401e-12]], dtype=float32)"
      ]
     },
     "execution_count": 14,
     "metadata": {},
     "output_type": "execute_result"
    }
   ],
   "source": [
    "prediction = model.predict([X_test])\n",
    "prediction"
   ]
  },
  {
   "cell_type": "code",
   "execution_count": 15,
   "id": "bf3ae93f",
   "metadata": {},
   "outputs": [
    {
     "name": "stdout",
     "output_type": "stream",
     "text": [
      "Probabilities:  [8.0375628e-12 2.3916147e-10 6.5023237e-10 1.9701740e-05 1.6593844e-04\n",
      " 5.7635699e-08 7.7457538e-15 2.0816240e-06 6.0263375e-08 9.9981207e-01]\n",
      "\n",
      "\n",
      "Prediction:  9\n"
     ]
    }
   ],
   "source": [
    "print('Probabilities: ', prediction[12])\n",
    "print('\\n')\n",
    "print('Prediction: ', np.argmax(prediction[12]))"
   ]
  },
  {
   "cell_type": "code",
   "execution_count": 16,
   "id": "4e111578",
   "metadata": {},
   "outputs": [
    {
     "data": {
      "image/png": "[encoded data removed]",
      "text/plain": [
       "<Figure size 640x480 with 1 Axes>"
      ]
     },
     "metadata": {},
     "output_type": "display_data"
    }
   ],
   "source": [
    "plt.imshow(X_test[12])\n",
    "plt.show()"
   ]
  },
  {
   "cell_type": "markdown",
   "id": "99832fdd",
   "metadata": {},
   "source": [
    "### Conclusion:\n",
    "Embarking on the MNIST Handwritten Digit Classification Challenge using Tensorflow and CNNs is an excellent starting point for beginners in the field of neural network machine learning. The project offers a user-friendly interface that allows individuals to gain practical experience and develop their skills in image classification tasks.\n",
    "\n",
    "By leveraging Tensorflow, beginners can take advantage of a powerful machine learning framework that simplifies the process of designing, training, and evaluating neural network models. Tensorflow's intuitive interface and extensive documentation make it accessible even to those with limited programming experience.\n",
    "\n",
    "The utilization of Convolutional Neural Networks (CNNs) in this project proves to be highly effective in accurately classifying handwritten digits. CNNs leverage spatial hierarchies and local connections to extract meaningful features from images, enabling accurate predictions and recognition.\n",
    "\n",
    "Engaging in the MNIST Handwritten Digit Classification Challenge provides hands-on experience in essential aspects of machine learning, including data preprocessing, model architecture design, hyperparameter tuning, and model evaluation. This practical exposure builds a solid foundation for further exploration of advanced machine learning concepts and applications.\n",
    "\n",
    "As beginners delve into this project, they will gain a deeper understanding of neural networks and their capabilities, setting the stage for future endeavors in artificial intelligence and machine learning. The journey through the MNIST Handwritten Digit Classification Challenge using Tensorflow and CNNs offers a rewarding and educational experience that ignites curiosity and opens doors to new opportunities in the ever-evolving field of machine learning."
   ]
  }
 ],
 "metadata": {
  "kernelspec": {
   "display_name": "Python 3 (ipykernel)",
   "language": "python",
   "name": "python3"
  },
  "language_info": {
   "codemirror_mode": {
    "name": "ipython",
    "version": 3
   },
   "file_extension": ".py",
   "mimetype": "text/x-python",
   "name": "python",
   "nbconvert_exporter": "python",
   "pygments_lexer": "ipython3",
   "version": "3.11.4"
  }
 },
 "nbformat": 4,
 "nbformat_minor": 5
}
